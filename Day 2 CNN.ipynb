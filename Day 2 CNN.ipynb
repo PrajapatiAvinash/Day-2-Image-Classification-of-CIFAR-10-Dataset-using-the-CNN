{
 "cells": [
  {
   "cell_type": "code",
   "execution_count": 1,
   "id": "b1de2aa0-e273-4978-ab99-7cb36c2b7759",
   "metadata": {},
   "outputs": [],
   "source": [
    "import numpy as np\n",
    "import pandas as pd\n",
    "from tensorflow import keras\n",
    "from tensorflow.keras import layers,datasets,models\n",
    "import matplotlib.pyplot as plt"
   ]
  },
  {
   "cell_type": "code",
   "execution_count": 2,
   "id": "d717e02d-6e30-4a9a-ae0f-75b696d8e290",
   "metadata": {},
   "outputs": [],
   "source": [
    "(X_train,y_train),(X_test,y_test) = datasets.cifar10.load_data()"
   ]
  },
  {
   "cell_type": "code",
   "execution_count": 3,
   "id": "3f390900-cbba-47ca-832b-282fb8c232b8",
   "metadata": {},
   "outputs": [],
   "source": [
    "X_train = X_train / 255\n",
    "X_test = X_test / 255"
   ]
  },
  {
   "cell_type": "code",
   "execution_count": 4,
   "id": "b536ee0f-1ed0-4e8f-ab93-bcdf6030b032",
   "metadata": {},
   "outputs": [
    {
     "data": {
      "text/plain": [
       "array([[[0.28627451, 0.30196078, 0.22745098],\n",
       "        [0.27843137, 0.26666667, 0.19607843],\n",
       "        [0.30196078, 0.27058824, 0.17254902],\n",
       "        ...,\n",
       "        [0.71764706, 0.82352941, 0.58431373],\n",
       "        [0.70588235, 0.83921569, 0.56078431],\n",
       "        [0.7254902 , 0.88235294, 0.56470588]],\n",
       "\n",
       "       [[0.28627451, 0.29019608, 0.20392157],\n",
       "        [0.29411765, 0.26666667, 0.21568627],\n",
       "        [0.30588235, 0.25098039, 0.19607843],\n",
       "        ...,\n",
       "        [0.70980392, 0.89803922, 0.54509804],\n",
       "        [0.6745098 , 0.8627451 , 0.50588235],\n",
       "        [0.68235294, 0.85490196, 0.49803922]],\n",
       "\n",
       "       [[0.30196078, 0.28235294, 0.25098039],\n",
       "        [0.36862745, 0.32156863, 0.30980392],\n",
       "        [0.38823529, 0.31764706, 0.28627451],\n",
       "        ...,\n",
       "        [0.68627451, 0.83529412, 0.54509804],\n",
       "        [0.74901961, 0.90196078, 0.59607843],\n",
       "        [0.7254902 , 0.88627451, 0.55686275]],\n",
       "\n",
       "       ...,\n",
       "\n",
       "       [[0.32941176, 0.41568627, 0.21960784],\n",
       "        [0.3372549 , 0.41176471, 0.22745098],\n",
       "        [0.4627451 , 0.52156863, 0.32941176],\n",
       "        ...,\n",
       "        [0.30980392, 0.37254902, 0.30588235],\n",
       "        [0.62352941, 0.69411765, 0.5372549 ],\n",
       "        [0.45882353, 0.52156863, 0.36862745]],\n",
       "\n",
       "       [[0.29803922, 0.37647059, 0.23529412],\n",
       "        [0.31764706, 0.38431373, 0.21960784],\n",
       "        [0.40392157, 0.45490196, 0.28627451],\n",
       "        ...,\n",
       "        [0.21960784, 0.31372549, 0.14117647],\n",
       "        [0.27058824, 0.35294118, 0.15686275],\n",
       "        [0.40784314, 0.47058824, 0.27058824]],\n",
       "\n",
       "       [[0.4       , 0.47058824, 0.36078431],\n",
       "        [0.35686275, 0.42745098, 0.24313725],\n",
       "        [0.37254902, 0.43137255, 0.24313725],\n",
       "        ...,\n",
       "        [0.39215686, 0.5254902 , 0.21568627],\n",
       "        [0.28235294, 0.38039216, 0.14901961],\n",
       "        [0.18823529, 0.23137255, 0.11372549]]])"
      ]
     },
     "execution_count": 4,
     "metadata": {},
     "output_type": "execute_result"
    },
    {
     "data": {
      "image/png": "[encoded data removed]",
      "text/plain": [
       "<Figure size 640x480 with 1 Axes>"
      ]
     },
     "metadata": {},
     "output_type": "display_data"
    },
    {
     "data": {
      "text/plain": [
       "<Figure size 1000x1000 with 0 Axes>"
      ]
     },
     "metadata": {},
     "output_type": "display_data"
    }
   ],
   "source": [
    "plt.imshow(X_train[24])\n",
    "plt.figure(figsize = (10,10))\n",
    "X_train[24]"
   ]
  },
  {
   "cell_type": "code",
   "execution_count": 5,
   "id": "e331c276-dcab-45cd-9f0b-cdd1eba98e1c",
   "metadata": {},
   "outputs": [
    {
     "name": "stderr",
     "output_type": "stream",
     "text": [
      "C:\\Users\\avina\\AppData\\Local\\Programs\\Python\\Python311\\Lib\\site-packages\\keras\\src\\layers\\reshaping\\flatten.py:37: UserWarning: Do not pass an `input_shape`/`input_dim` argument to a layer. When using Sequential models, prefer using an `Input(shape)` object as the first layer in the model instead.\n",
      "  super().__init__(**kwargs)\n"
     ]
    }
   ],
   "source": [
    "from keras import Sequential\n",
    "from keras.layers import Dense\n",
    "ANN = Sequential([\n",
    "    keras.layers.Flatten (input_shape = (32,32,3)),\n",
    "    Dense(30,activation = 'relu'),\n",
    "    Dense(30,activation = 'softmax'),\n",
    "    Dense(10,activation = 'sigmoid')\n",
    "])\n",
    "\n",
    "ANN.compile(\n",
    "    optimizer = 'adam',\n",
    "    loss = 'sparse_categorical_crossentropy', \n",
    "    metrics = ['accuracy']\n",
    ")"
   ]
  },
  {
   "cell_type": "code",
   "execution_count": 6,
   "id": "f85a02dd-ace5-4a8f-8cb5-dc070c3124bd",
   "metadata": {},
   "outputs": [
    {
     "name": "stdout",
     "output_type": "stream",
     "text": [
      "Epoch 1/10\n",
      "\u001b[1m1563/1563\u001b[0m \u001b[32m━━━━━━━━━━━━━━━━━━━━\u001b[0m\u001b[37m\u001b[0m \u001b[1m3s\u001b[0m 1ms/step - accuracy: 0.1735 - loss: 2.1966\n",
      "Epoch 2/10\n",
      "\u001b[1m1563/1563\u001b[0m \u001b[32m━━━━━━━━━━━━━━━━━━━━\u001b[0m\u001b[37m\u001b[0m \u001b[1m2s\u001b[0m 1ms/step - accuracy: 0.2525 - loss: 2.0248\n",
      "Epoch 3/10\n",
      "\u001b[1m1563/1563\u001b[0m \u001b[32m━━━━━━━━━━━━━━━━━━━━\u001b[0m\u001b[37m\u001b[0m \u001b[1m2s\u001b[0m 1ms/step - accuracy: 0.2919 - loss: 1.9312\n",
      "Epoch 4/10\n",
      "\u001b[1m1563/1563\u001b[0m \u001b[32m━━━━━━━━━━━━━━━━━━━━\u001b[0m\u001b[37m\u001b[0m \u001b[1m2s\u001b[0m 1ms/step - accuracy: 0.3103 - loss: 1.8769\n",
      "Epoch 5/10\n",
      "\u001b[1m1563/1563\u001b[0m \u001b[32m━━━━━━━━━━━━━━━━━━━━\u001b[0m\u001b[37m\u001b[0m \u001b[1m2s\u001b[0m 1ms/step - accuracy: 0.3206 - loss: 1.8467\n",
      "Epoch 6/10\n",
      "\u001b[1m1563/1563\u001b[0m \u001b[32m━━━━━━━━━━━━━━━━━━━━\u001b[0m\u001b[37m\u001b[0m \u001b[1m2s\u001b[0m 1ms/step - accuracy: 0.3363 - loss: 1.8267\n",
      "Epoch 7/10\n",
      "\u001b[1m1563/1563\u001b[0m \u001b[32m━━━━━━━━━━━━━━━━━━━━\u001b[0m\u001b[37m\u001b[0m \u001b[1m2s\u001b[0m 1ms/step - accuracy: 0.3436 - loss: 1.8018\n",
      "Epoch 8/10\n",
      "\u001b[1m1563/1563\u001b[0m \u001b[32m━━━━━━━━━━━━━━━━━━━━\u001b[0m\u001b[37m\u001b[0m \u001b[1m2s\u001b[0m 1ms/step - accuracy: 0.3507 - loss: 1.7864\n",
      "Epoch 9/10\n",
      "\u001b[1m1563/1563\u001b[0m \u001b[32m━━━━━━━━━━━━━━━━━━━━\u001b[0m\u001b[37m\u001b[0m \u001b[1m2s\u001b[0m 1ms/step - accuracy: 0.3558 - loss: 1.7683\n",
      "Epoch 10/10\n",
      "\u001b[1m1563/1563\u001b[0m \u001b[32m━━━━━━━━━━━━━━━━━━━━\u001b[0m\u001b[37m\u001b[0m \u001b[1m2s\u001b[0m 1ms/step - accuracy: 0.3645 - loss: 1.7575\n"
     ]
    },
    {
     "data": {
      "text/plain": [
       "<keras.src.callbacks.history.History at 0x2558001d550>"
      ]
     },
     "execution_count": 6,
     "metadata": {},
     "output_type": "execute_result"
    }
   ],
   "source": [
    "ANN.fit(X_train,y_train,epochs = 10)"
   ]
  },
  {
   "cell_type": "code",
   "execution_count": 7,
   "id": "4986823d-ce3b-4d71-b285-394531849db6",
   "metadata": {},
   "outputs": [
    {
     "name": "stdout",
     "output_type": "stream",
     "text": [
      "\u001b[1m313/313\u001b[0m \u001b[32m━━━━━━━━━━━━━━━━━━━━\u001b[0m\u001b[37m\u001b[0m \u001b[1m0s\u001b[0m 966us/step\n"
     ]
    }
   ],
   "source": [
    "y_pred = ANN.predict(X_test)"
   ]
  },
  {
   "cell_type": "code",
   "execution_count": 8,
   "id": "6be44d5d-a8aa-45e1-8dd2-1a5d01557534",
   "metadata": {},
   "outputs": [
    {
     "data": {
      "text/plain": [
       "' cars'"
      ]
     },
     "execution_count": 8,
     "metadata": {},
     "output_type": "execute_result"
    }
   ],
   "source": [
    "y_pred[28].argmax()\n",
    "classes = [' airplanes',' cars', 'birds', 'cats', 'deer', 'dogs', 'frogs', 'horses', 'ships', 'trucks']\n",
    "# print(\"Actual Class :\", classes[y_test[25]])\n",
    "classes[y_pred[28].argmax()]"
   ]
  },
  {
   "cell_type": "code",
   "execution_count": 9,
   "id": "654c33ce-e52b-41f9-8580-5bcc8f6c1658",
   "metadata": {},
   "outputs": [
    {
     "name": "stderr",
     "output_type": "stream",
     "text": [
      "C:\\Users\\avina\\AppData\\Local\\Programs\\Python\\Python311\\Lib\\site-packages\\keras\\src\\layers\\convolutional\\base_conv.py:99: UserWarning: Do not pass an `input_shape`/`input_dim` argument to a layer. When using Sequential models, prefer using an `Input(shape)` object as the first layer in the model instead.\n",
      "  super().__init__(\n"
     ]
    }
   ],
   "source": [
    "# CNN Implementation\n",
    "from keras import Sequential\n",
    "CNN = Sequential([\n",
    "    layers.Conv2D(filters = 30 , kernel_size = (3,3), activation = 'relu',input_shape = (32,32,3)),\n",
    "    layers.MaxPooling2D((2,2)),\n",
    "\n",
    "    layers.Conv2D(filters = 64 , kernel_size = (3,3), activation = 'relu'),\n",
    "    layers.MaxPooling2D((2,2)),\n",
    "\n",
    "    layers.Flatten(),\n",
    "    layers.Dense(64,activation = 'relu'),\n",
    "    layers.Dense(10,activation = 'softmax')\n",
    "])\n",
    "CNN.compile(\n",
    "    optimizer = 'adam',\n",
    "    loss = 'sparse_categorical_crossentropy',\n",
    "    metrics = ['accuracy']\n",
    ")"
   ]
  },
  {
   "cell_type": "code",
   "execution_count": 12,
   "id": "b1b008d3-d419-4c11-bb81-4fe57a78a3c1",
   "metadata": {},
   "outputs": [
    {
     "name": "stdout",
     "output_type": "stream",
     "text": [
      "Epoch 1/5\n",
      "\u001b[1m1563/1563\u001b[0m \u001b[32m━━━━━━━━━━━━━━━━━━━━\u001b[0m\u001b[37m\u001b[0m \u001b[1m10s\u001b[0m 7ms/step - accuracy: 0.8107 - loss: 0.5408\n",
      "Epoch 2/5\n",
      "\u001b[1m1563/1563\u001b[0m \u001b[32m━━━━━━━━━━━━━━━━━━━━\u001b[0m\u001b[37m\u001b[0m \u001b[1m11s\u001b[0m 7ms/step - accuracy: 0.8196 - loss: 0.5127\n",
      "Epoch 3/5\n",
      "\u001b[1m1563/1563\u001b[0m \u001b[32m━━━━━━━━━━━━━━━━━━━━\u001b[0m\u001b[37m\u001b[0m \u001b[1m11s\u001b[0m 7ms/step - accuracy: 0.8308 - loss: 0.4806\n",
      "Epoch 4/5\n",
      "\u001b[1m1563/1563\u001b[0m \u001b[32m━━━━━━━━━━━━━━━━━━━━\u001b[0m\u001b[37m\u001b[0m \u001b[1m11s\u001b[0m 7ms/step - accuracy: 0.8454 - loss: 0.4402\n",
      "Epoch 5/5\n",
      "\u001b[1m1563/1563\u001b[0m \u001b[32m━━━━━━━━━━━━━━━━━━━━\u001b[0m\u001b[37m\u001b[0m \u001b[1m14s\u001b[0m 9ms/step - accuracy: 0.8554 - loss: 0.4142\n"
     ]
    },
    {
     "data": {
      "text/plain": [
       "<keras.src.callbacks.history.History at 0x2558238bc50>"
      ]
     },
     "execution_count": 12,
     "metadata": {},
     "output_type": "execute_result"
    }
   ],
   "source": [
    "CNN.fit(X_train,y_train,epochs = 5)"
   ]
  },
  {
   "cell_type": "code",
   "execution_count": 14,
   "id": "d0be8385-89de-4ee7-9dad-e712ae888d54",
   "metadata": {},
   "outputs": [
    {
     "name": "stdout",
     "output_type": "stream",
     "text": [
      "\u001b[1m313/313\u001b[0m \u001b[32m━━━━━━━━━━━━━━━━━━━━\u001b[0m\u001b[37m\u001b[0m \u001b[1m1s\u001b[0m 3ms/step\n"
     ]
    }
   ],
   "source": [
    "y_pred = CNN.predict(X_test)"
   ]
  },
  {
   "cell_type": "code",
   "execution_count": 42,
   "id": "aef5046c-3e66-49ae-ac5c-3fbfb53ce157",
   "metadata": {},
   "outputs": [
    {
     "name": "stdout",
     "output_type": "stream",
     "text": [
      "predicted Class : ships\n",
      "Actual Class: ships\n"
     ]
    },
    {
     "data": {
      "text/plain": [
       "<matplotlib.image.AxesImage at 0x2558899e7d0>"
      ]
     },
     "execution_count": 42,
     "metadata": {},
     "output_type": "execute_result"
    },
    {
     "data": {
      "image/png": "[encoded data removed]",
      "text/plain": [
       "<Figure size 640x480 with 1 Axes>"
      ]
     },
     "metadata": {},
     "output_type": "display_data"
    }
   ],
   "source": [
    "print(\"predicted Class : \" + classes[y_pred[15].argmax()])\n",
    "print(\"Actual Class: \" + classes[int(y_test[15])])\n",
    "plt.imshow(X_train[15])"
   ]
  }
 ],
 "metadata": {
  "kernelspec": {
   "display_name": "Python 3 (ipykernel)",
   "language": "python",
   "name": "python3"
  },
  "language_info": {
   "codemirror_mode": {
    "name": "ipython",
    "version": 3
   },
   "file_extension": ".py",
   "mimetype": "text/x-python",
   "name": "python",
   "nbconvert_exporter": "python",
   "pygments_lexer": "ipython3",
   "version": "3.11.0"
  }
 },
 "nbformat": 4,
 "nbformat_minor": 5
}
